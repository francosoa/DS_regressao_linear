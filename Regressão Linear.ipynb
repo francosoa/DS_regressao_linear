{
 "cells": [
  {
   "cell_type": "markdown",
   "id": "99de8f38",
   "metadata": {},
   "source": [
    "# Predição de Vendas - Regressão Linear Simples e Múltipla\n",
    "\n",
    "\n",
    "\n",
    "##### O Dataset:\n",
    "A base de dados conta com os canais utilizados para realizar uma propaganda, e o quanto cada canal vendeu de acordo com o valor investido na propaganda\n",
    "\n",
    "##### Problema de estudo:\n",
    "Realizar a predição de vendas baseado nas variáveis presentes no dataset.\n"
   ]
  },
  {
   "cell_type": "markdown",
   "id": "3ec06eb1",
   "metadata": {},
   "source": [
    "### Apresentação da base de dados:"
   ]
  },
  {
   "cell_type": "code",
   "execution_count": 88,
   "id": "85415992",
   "metadata": {},
   "outputs": [],
   "source": [
    "import warnings\n",
    "warnings.filterwarnings('ignore') #Suspender os 'Warnings' no output do código\n",
    "\n",
    "import pandas as pd #Para trabalhar com DataFrames\n",
    "import numpy as np #Álgebra\n",
    "\n",
    "\n",
    "#Visualização de Dabsados\n",
    "\n",
    "import seaborn as sns\n",
    "import matplotlib.pyplot as plt\n"
   ]
  },
  {
   "cell_type": "code",
   "execution_count": 89,
   "id": "7db4bcaa",
   "metadata": {},
   "outputs": [
    {
     "data": {
      "text/html": [
       "<div>\n",
       "<style scoped>\n",
       "    .dataframe tbody tr th:only-of-type {\n",
       "        vertical-align: middle;\n",
       "    }\n",
       "\n",
       "    .dataframe tbody tr th {\n",
       "        vertical-align: top;\n",
       "    }\n",
       "\n",
       "    .dataframe thead th {\n",
       "        text-align: right;\n",
       "    }\n",
       "</style>\n",
       "<table border=\"1\" class=\"dataframe\">\n",
       "  <thead>\n",
       "    <tr style=\"text-align: right;\">\n",
       "      <th></th>\n",
       "      <th>TV</th>\n",
       "      <th>Radio</th>\n",
       "      <th>Newspaper</th>\n",
       "      <th>Sales</th>\n",
       "    </tr>\n",
       "  </thead>\n",
       "  <tbody>\n",
       "    <tr>\n",
       "      <th>0</th>\n",
       "      <td>230.1</td>\n",
       "      <td>37.8</td>\n",
       "      <td>69.2</td>\n",
       "      <td>22.1</td>\n",
       "    </tr>\n",
       "    <tr>\n",
       "      <th>1</th>\n",
       "      <td>44.5</td>\n",
       "      <td>39.3</td>\n",
       "      <td>45.1</td>\n",
       "      <td>10.4</td>\n",
       "    </tr>\n",
       "    <tr>\n",
       "      <th>2</th>\n",
       "      <td>17.2</td>\n",
       "      <td>45.9</td>\n",
       "      <td>69.3</td>\n",
       "      <td>12.0</td>\n",
       "    </tr>\n",
       "    <tr>\n",
       "      <th>3</th>\n",
       "      <td>151.5</td>\n",
       "      <td>41.3</td>\n",
       "      <td>58.5</td>\n",
       "      <td>16.5</td>\n",
       "    </tr>\n",
       "    <tr>\n",
       "      <th>4</th>\n",
       "      <td>180.8</td>\n",
       "      <td>10.8</td>\n",
       "      <td>58.4</td>\n",
       "      <td>17.9</td>\n",
       "    </tr>\n",
       "  </tbody>\n",
       "</table>\n",
       "</div>"
      ],
      "text/plain": [
       "      TV  Radio  Newspaper  Sales\n",
       "0  230.1   37.8       69.2   22.1\n",
       "1   44.5   39.3       45.1   10.4\n",
       "2   17.2   45.9       69.3   12.0\n",
       "3  151.5   41.3       58.5   16.5\n",
       "4  180.8   10.8       58.4   17.9"
      ]
     },
     "execution_count": 89,
     "metadata": {},
     "output_type": "execute_result"
    }
   ],
   "source": [
    "#Carregando a base de dados\n",
    "propaganda = pd.read_csv('advertising.csv')\n",
    "propaganda.head()"
   ]
  },
  {
   "cell_type": "markdown",
   "id": "3d882890",
   "metadata": {},
   "source": [
    "### Análise Exploratória e Limpeza de Dados:"
   ]
  },
  {
   "cell_type": "code",
   "execution_count": 3,
   "id": "f8496149",
   "metadata": {},
   "outputs": [
    {
     "data": {
      "text/plain": [
       "(200, 4)"
      ]
     },
     "execution_count": 3,
     "metadata": {},
     "output_type": "execute_result"
    }
   ],
   "source": [
    "propaganda.shape"
   ]
  },
  {
   "cell_type": "code",
   "execution_count": 90,
   "id": "050dbfa0",
   "metadata": {},
   "outputs": [
    {
     "name": "stdout",
     "output_type": "stream",
     "text": [
      "<class 'pandas.core.frame.DataFrame'>\n",
      "RangeIndex: 200 entries, 0 to 199\n",
      "Data columns (total 4 columns):\n",
      " #   Column     Non-Null Count  Dtype  \n",
      "---  ------     --------------  -----  \n",
      " 0   TV         200 non-null    float64\n",
      " 1   Radio      200 non-null    float64\n",
      " 2   Newspaper  200 non-null    float64\n",
      " 3   Sales      200 non-null    float64\n",
      "dtypes: float64(4)\n",
      "memory usage: 6.4 KB\n"
     ]
    }
   ],
   "source": [
    "propaganda.info()\n",
    "#Obs: Todas as varáveis são qualitativas"
   ]
  },
  {
   "cell_type": "code",
   "execution_count": 5,
   "id": "6e4d4150",
   "metadata": {},
   "outputs": [
    {
     "data": {
      "text/plain": [
       "TV           0\n",
       "Radio        0\n",
       "Newspaper    0\n",
       "Sales        0\n",
       "dtype: int64"
      ]
     },
     "execution_count": 5,
     "metadata": {},
     "output_type": "execute_result"
    }
   ],
   "source": [
    "propaganda.isnull().sum()"
   ]
  },
  {
   "cell_type": "code",
   "execution_count": 6,
   "id": "fddce57e",
   "metadata": {},
   "outputs": [
    {
     "data": {
      "text/html": [
       "<div>\n",
       "<style scoped>\n",
       "    .dataframe tbody tr th:only-of-type {\n",
       "        vertical-align: middle;\n",
       "    }\n",
       "\n",
       "    .dataframe tbody tr th {\n",
       "        vertical-align: top;\n",
       "    }\n",
       "\n",
       "    .dataframe thead th {\n",
       "        text-align: right;\n",
       "    }\n",
       "</style>\n",
       "<table border=\"1\" class=\"dataframe\">\n",
       "  <thead>\n",
       "    <tr style=\"text-align: right;\">\n",
       "      <th></th>\n",
       "      <th>TV</th>\n",
       "      <th>Radio</th>\n",
       "      <th>Newspaper</th>\n",
       "      <th>Sales</th>\n",
       "    </tr>\n",
       "  </thead>\n",
       "  <tbody>\n",
       "    <tr>\n",
       "      <th>count</th>\n",
       "      <td>200.000000</td>\n",
       "      <td>200.000000</td>\n",
       "      <td>200.000000</td>\n",
       "      <td>200.000000</td>\n",
       "    </tr>\n",
       "    <tr>\n",
       "      <th>mean</th>\n",
       "      <td>147.042500</td>\n",
       "      <td>23.264000</td>\n",
       "      <td>30.554000</td>\n",
       "      <td>15.130500</td>\n",
       "    </tr>\n",
       "    <tr>\n",
       "      <th>std</th>\n",
       "      <td>85.854236</td>\n",
       "      <td>14.846809</td>\n",
       "      <td>21.778621</td>\n",
       "      <td>5.283892</td>\n",
       "    </tr>\n",
       "    <tr>\n",
       "      <th>min</th>\n",
       "      <td>0.700000</td>\n",
       "      <td>0.000000</td>\n",
       "      <td>0.300000</td>\n",
       "      <td>1.600000</td>\n",
       "    </tr>\n",
       "    <tr>\n",
       "      <th>25%</th>\n",
       "      <td>74.375000</td>\n",
       "      <td>9.975000</td>\n",
       "      <td>12.750000</td>\n",
       "      <td>11.000000</td>\n",
       "    </tr>\n",
       "    <tr>\n",
       "      <th>50%</th>\n",
       "      <td>149.750000</td>\n",
       "      <td>22.900000</td>\n",
       "      <td>25.750000</td>\n",
       "      <td>16.000000</td>\n",
       "    </tr>\n",
       "    <tr>\n",
       "      <th>75%</th>\n",
       "      <td>218.825000</td>\n",
       "      <td>36.525000</td>\n",
       "      <td>45.100000</td>\n",
       "      <td>19.050000</td>\n",
       "    </tr>\n",
       "    <tr>\n",
       "      <th>max</th>\n",
       "      <td>296.400000</td>\n",
       "      <td>49.600000</td>\n",
       "      <td>114.000000</td>\n",
       "      <td>27.000000</td>\n",
       "    </tr>\n",
       "  </tbody>\n",
       "</table>\n",
       "</div>"
      ],
      "text/plain": [
       "               TV       Radio   Newspaper       Sales\n",
       "count  200.000000  200.000000  200.000000  200.000000\n",
       "mean   147.042500   23.264000   30.554000   15.130500\n",
       "std     85.854236   14.846809   21.778621    5.283892\n",
       "min      0.700000    0.000000    0.300000    1.600000\n",
       "25%     74.375000    9.975000   12.750000   11.000000\n",
       "50%    149.750000   22.900000   25.750000   16.000000\n",
       "75%    218.825000   36.525000   45.100000   19.050000\n",
       "max    296.400000   49.600000  114.000000   27.000000"
      ]
     },
     "execution_count": 6,
     "metadata": {},
     "output_type": "execute_result"
    }
   ],
   "source": [
    "propaganda.describe()"
   ]
  },
  {
   "cell_type": "markdown",
   "id": "0c32ad30",
   "metadata": {},
   "source": [
    "Utilizo o \"pairplot\" para verificar visualmente a possível correlação entre variáveis:"
   ]
  },
  {
   "cell_type": "code",
   "execution_count": 7,
   "id": "924bbdbb",
   "metadata": {},
   "outputs": [
    {
     "data": {
      "image/png": "[encoded data removed]",
      "text/plain": [
       "<Figure size 864x288 with 3 Axes>"
      ]
     },
     "metadata": {
      "needs_background": "light"
     },
     "output_type": "display_data"
    }
   ],
   "source": [
    "sns.pairplot(propaganda, x_vars=['TV', 'Newspaper', 'Radio'], y_vars='Sales', height=4, aspect=1, kind= 'scatter')\n",
    "plt.title('Análise Exploratória dos dados')\n",
    "plt.show()"
   ]
  },
  {
   "cell_type": "markdown",
   "id": "9d54d4ae",
   "metadata": {},
   "source": [
    "Mesmo ainda não plotando uma matriz de correlação, já consigo perceber uma tendência linear nas variáveis 'Sales' e 'TV'. Vou utilizar uma matriz de Correlação de Pearson para verificar como uma variável se comporta na presença de outra, e qual é o nível de correlação das variáveis."
   ]
  },
  {
   "cell_type": "code",
   "execution_count": 8,
   "id": "b2da4f0b",
   "metadata": {},
   "outputs": [
    {
     "data": {
      "image/png": "[encoded data removed]",
      "text/plain": [
       "<Figure size 800x480 with 2 Axes>"
      ]
     },
     "metadata": {
      "needs_background": "light"
     },
     "output_type": "display_data"
    }
   ],
   "source": [
    "# Matriz de correlação:\n",
    "\n",
    "plt.figure(figsize=(10, 6), dpi=80)\n",
    "sns.heatmap(propaganda.corr(), cmap=\"YlGnBu\", annot=True,vmax=1)\n",
    "plt.title('Correlação das variáveis em análise')\n",
    "plt.show()"
   ]
  },
  {
   "cell_type": "markdown",
   "id": "5a38901d",
   "metadata": {},
   "source": [
    "Como o previsto no 'pairplot' a variável 'TV' tem uma correlação positiva com 'Sales' (Uma correlação de 0.9).Portanto, como estamos trabalhando com uma regressão simples, vamos estimar um modelo onde a variável depedente(y) é \"Sales\", e a variável explicativa(x) é TV. "
   ]
  },
  {
   "attachments": {
    "image-2.png": {
     "image/png": "[encoded data removed]"
    }
   },
   "cell_type": "markdown",
   "id": "6e308e2c",
   "metadata": {},
   "source": [
    "### Estimação do Modelo\n",
    "\n",
    "###### A estimação:\n",
    "\n",
    "![image-2.png](attachment:image-2.png)\n",
    "\n",
    "- Y corresponde a variável dependete\n",
    "- a (alfa) é o intercepto da análise\n",
    "- b (beta) é o coeficiente de inclinação da reta\n",
    "- x é a variável explicativa da análise\n",
    "- u corresponde ao termo de erro\n",
    "\n",
    "O nosso modelo:\n",
    "\n",
    "- Y^ = a + b1.TV\n"
   ]
  },
  {
   "cell_type": "markdown",
   "id": "7ca29fb8",
   "metadata": {},
   "source": [
    "###### Para dar início ao modelo vou separar a minha variável X e Y"
   ]
  },
  {
   "cell_type": "code",
   "execution_count": 9,
   "id": "1838c1ce",
   "metadata": {},
   "outputs": [],
   "source": [
    "X = propaganda['TV'] #Minha variável explicativa \n",
    "y = propaganda['Sales'] # Variável Dependente"
   ]
  },
  {
   "cell_type": "markdown",
   "id": "0ddc087f",
   "metadata": {},
   "source": [
    "#### Divisão do modelo para treino e teste\n",
    "\n",
    "Nessa etapa vou precisa dividir a minha variável X e Y em duas. Duas de treino (X_train e y_train), e duas de teste(X_test e X_test). Diversos livros de DS falam de boas práticas, e que uma delas é separar 70% do seu banco de dados para ser treinado, e o restante (30%) ser utilizado para teste."
   ]
  },
  {
   "cell_type": "code",
   "execution_count": 10,
   "id": "7aae4a98",
   "metadata": {},
   "outputs": [],
   "source": [
    "#A 'library' abaixo vai nos ajudar nesse processo de divisão\n",
    "from sklearn.model_selection import train_test_split\n",
    "X_train, x_test, y_train,y_test = train_test_split(X, y, train_size=0.7, test_size=0.3, random_state=100)\n"
   ]
  },
  {
   "cell_type": "markdown",
   "id": "79b5e35a",
   "metadata": {},
   "source": [
    "#### Construindo um Modelo Linear Simples"
   ]
  },
  {
   "cell_type": "code",
   "execution_count": 13,
   "id": "5f13cdd3",
   "metadata": {},
   "outputs": [],
   "source": [
    "import statsmodels.api as sm #lib necessária para rodar uma OLS (Ordinary Least Squares)"
   ]
  },
  {
   "cell_type": "code",
   "execution_count": 91,
   "id": "2b0947c6",
   "metadata": {},
   "outputs": [],
   "source": [
    "#Para adicionar o intercepto no modelo (Y)\n",
    "X_sm_train = sm.add_constant(X_train)\n",
    "\n",
    "#Para fazer o 'fit' usando 'OLS'\n",
    "lr = sm.OLS(y_train, X_sm_train).fit()"
   ]
  },
  {
   "cell_type": "markdown",
   "id": "8cfd7381",
   "metadata": {},
   "source": [
    "###### Apresentando os parâmetros do modelo:\n",
    "Abaixo temos o intercepto e o parâmetro de inclinação (Beta)."
   ]
  },
  {
   "cell_type": "code",
   "execution_count": 15,
   "id": "a5b3c01a",
   "metadata": {},
   "outputs": [
    {
     "data": {
      "text/plain": [
       "const    6.948683\n",
       "TV       0.054546\n",
       "dtype: float64"
      ]
     },
     "execution_count": 15,
     "metadata": {},
     "output_type": "execute_result"
    }
   ],
   "source": [
    "lr.params"
   ]
  },
  {
   "cell_type": "markdown",
   "id": "a34e5fcb",
   "metadata": {},
   "source": [
    "###### Apresentando as demais estatisticas do modelo:"
   ]
  },
  {
   "cell_type": "code",
   "execution_count": 16,
   "id": "10c2465a",
   "metadata": {},
   "outputs": [
    {
     "name": "stdout",
     "output_type": "stream",
     "text": [
      "                            OLS Regression Results                            \n",
      "==============================================================================\n",
      "Dep. Variable:                  Sales   R-squared:                       0.816\n",
      "Model:                            OLS   Adj. R-squared:                  0.814\n",
      "Method:                 Least Squares   F-statistic:                     611.2\n",
      "Date:                Wed, 03 Nov 2021   Prob (F-statistic):           1.52e-52\n",
      "Time:                        19:22:44   Log-Likelihood:                -321.12\n",
      "No. Observations:                 140   AIC:                             646.2\n",
      "Df Residuals:                     138   BIC:                             652.1\n",
      "Df Model:                           1                                         \n",
      "Covariance Type:            nonrobust                                         \n",
      "==============================================================================\n",
      "                 coef    std err          t      P>|t|      [0.025      0.975]\n",
      "------------------------------------------------------------------------------\n",
      "const          6.9487      0.385     18.068      0.000       6.188       7.709\n",
      "TV             0.0545      0.002     24.722      0.000       0.050       0.059\n",
      "==============================================================================\n",
      "Omnibus:                        0.027   Durbin-Watson:                   2.196\n",
      "Prob(Omnibus):                  0.987   Jarque-Bera (JB):                0.150\n",
      "Skew:                          -0.006   Prob(JB):                        0.928\n",
      "Kurtosis:                       2.840   Cond. No.                         328.\n",
      "==============================================================================\n",
      "\n",
      "Notes:\n",
      "[1] Standard Errors assume that the covariance matrix of the errors is correctly specified.\n"
     ]
    }
   ],
   "source": [
    "print(lr.summary())"
   ]
  },
  {
   "cell_type": "markdown",
   "id": "a79ff87a",
   "metadata": {},
   "source": [
    "##### Observações para serem feitas no modelo:\n",
    "\n",
    "- R-squared(R-quadrado): Apresentou um valor de 0.816, ou seja, o modelo estimado tem um poder de predição de 81%;\n",
    "- Os P_values do modelo são estatisticamente significante a 95% de confiança;\n",
    "- F Statistic é estatisticamente significante, portanto temos um modelo."
   ]
  },
  {
   "cell_type": "markdown",
   "id": "41f19a30",
   "metadata": {},
   "source": [
    "#### Depois de toda a predição, o modelo ficou assim:\n",
    "\n",
    "###### Sales = 6.9487 (intercepto) + 0.0545 (beta).TV(valor da variável)\n",
    "\n",
    "Vamos plotar um gráfico para verificar como ficou a nossa linha de regressão, e como os values se distribuiram em cima do \n",
    "fitted value (Valor esperado)"
   ]
  },
  {
   "cell_type": "code",
   "execution_count": 92,
   "id": "82a6e350",
   "metadata": {},
   "outputs": [
    {
     "data": {
      "image/png": "[encoded data removed]",
      "text/plain": [
       "<Figure size 720x432 with 1 Axes>"
      ]
     },
     "metadata": {
      "needs_background": "light"
     },
     "output_type": "display_data"
    }
   ],
   "source": [
    "plt.figure(figsize=(10,6))\n",
    "plt.scatter(X_train, y_train)\n",
    "plt.xlabel('TV')\n",
    "plt.ylabel('Sales')\n",
    "plt.plot(X_train, 6.9487 + 0.0545 * X_train, 'r')\n",
    "plt.title('Modelo de Regressão')\n",
    "plt.show()"
   ]
  },
  {
   "cell_type": "markdown",
   "id": "62a620c7",
   "metadata": {},
   "source": [
    "## Verificar a Normalidade dos Erros\n",
    "\n",
    "Para ter a certeza que estamos trabalhando com um bom modelo, precisamos verificar a normalidade dos resíduos. Essa verificação é necessária para validação dos testes de hipóteses do modelo, ou seja, caso os resíduos sejam aderentes a normalidade o teste F é válido no nosso. "
   ]
  },
  {
   "cell_type": "code",
   "execution_count": 18,
   "id": "0e648278",
   "metadata": {},
   "outputs": [
    {
     "data": {
      "text/plain": [
       "count    1.400000e+02\n",
       "mean     2.334640e-15\n",
       "std      2.407028e+00\n",
       "min     -6.159676e+00\n",
       "25%     -1.603752e+00\n",
       "50%     -2.144479e-02\n",
       "75%      1.635356e+00\n",
       "max      5.902167e+00\n",
       "dtype: float64"
      ]
     },
     "execution_count": 18,
     "metadata": {},
     "output_type": "execute_result"
    }
   ],
   "source": [
    "y_pred_train = lr.predict(X_sm_train)\n",
    "residuo = (y_train - y_pred_train)\n",
    "residuo.describe()"
   ]
  },
  {
   "cell_type": "code",
   "execution_count": 19,
   "id": "481f250e",
   "metadata": {},
   "outputs": [
    {
     "data": {
      "text/plain": [
       "<Figure size 432x288 with 0 Axes>"
      ]
     },
     "metadata": {},
     "output_type": "display_data"
    },
    {
     "data": {
      "image/png": "[encoded data removed]",
      "text/plain": [
       "<Figure size 360x360 with 1 Axes>"
      ]
     },
     "metadata": {
      "needs_background": "light"
     },
     "output_type": "display_data"
    }
   ],
   "source": [
    "plt.figure()\n",
    "sns.displot(residuo, bins=15, kde=True)\n",
    "plt.title('Termos de erro')\n",
    "plt.show()"
   ]
  },
  {
   "cell_type": "markdown",
   "id": "a3b13d31",
   "metadata": {},
   "source": [
    "Visualmente os resíduos parecem ser normais/normalidade, mas para garantir estatísticamente vamos realizar um teste de: \n",
    "###### Shapiro-Wilk\n",
    "\n",
    "Algumas cosiderações do Shapiro-Wilk:\n",
    "- O teste serve para verificar a normalidade dos dados;\n",
    "- p_value >=0.05: Os resíduos seguem uma distribuição normal;\n",
    "- p_value < 0.05: Os resíduos não seguem uma distribuição normal."
   ]
  },
  {
   "cell_type": "markdown",
   "id": "14935edb",
   "metadata": {},
   "source": [
    "##### Teste de Shapiro-Wilk"
   ]
  },
  {
   "cell_type": "code",
   "execution_count": 32,
   "id": "a453305c",
   "metadata": {},
   "outputs": [
    {
     "data": {
      "text/plain": [
       "True"
      ]
     },
     "execution_count": 32,
     "metadata": {},
     "output_type": "execute_result"
    }
   ],
   "source": [
    "from scipy import stats\n",
    "\n",
    "statistic, pvalue= stats.shapiro(residuo)\n",
    "\n",
    "#Verificando se o p_value é maior que 0.05\n",
    "pvalue>0.05"
   ]
  },
  {
   "cell_type": "markdown",
   "id": "518b27ec",
   "metadata": {},
   "source": [
    "Nosso modelo tem um p_value maior que 0.05, portanto os resíduos são aderentes a normalidade."
   ]
  },
  {
   "cell_type": "markdown",
   "id": "740fc63f",
   "metadata": {},
   "source": [
    "# Regressão Linear Múltipla"
   ]
  },
  {
   "cell_type": "markdown",
   "id": "ac5bcf83",
   "metadata": {},
   "source": [
    "Neste momento eu vou realizar a análise da variável dependete, e todas as minhas variáveis independetes. E é justamente por esse motivo que essa técnica se diferencia da técnica simples de regressão. Vamos avaliar qual é a influência de todas as variáveis de channel com relação as vendas"
   ]
  },
  {
   "cell_type": "code",
   "execution_count": 21,
   "id": "c24df393",
   "metadata": {},
   "outputs": [],
   "source": [
    "#Separando as minhas variáveis dependentes das independentes\n",
    "\n",
    "X2 = propaganda[['TV', 'Radio', 'Newspaper']].values\n",
    "y2 = propaganda['Sales'].values"
   ]
  },
  {
   "cell_type": "markdown",
   "id": "d2179b4d",
   "metadata": {},
   "source": [
    "Assim como no modelo acima, vou separar uma amostra de treino e teste:"
   ]
  },
  {
   "cell_type": "code",
   "execution_count": 22,
   "id": "8752bff2",
   "metadata": {},
   "outputs": [],
   "source": [
    "from sklearn.model_selection import train_test_split\n",
    "X_train2, x_test2, y_train2,y_test2 = train_test_split(X2, y2, train_size=0.7, test_size=0.3, random_state=0)"
   ]
  },
  {
   "cell_type": "code",
   "execution_count": 33,
   "id": "d38b436c",
   "metadata": {},
   "outputs": [],
   "source": [
    "train2 = sm.add_constant(X_train2) #adicionando o intercepto\n",
    "\n",
    "LM = sm.OLS(y_train2, train2).fit()"
   ]
  },
  {
   "cell_type": "code",
   "execution_count": 24,
   "id": "a35bcf45",
   "metadata": {},
   "outputs": [
    {
     "name": "stdout",
     "output_type": "stream",
     "text": [
      "                            OLS Regression Results                            \n",
      "==============================================================================\n",
      "Dep. Variable:                      y   R-squared:                       0.916\n",
      "Model:                            OLS   Adj. R-squared:                  0.914\n",
      "Method:                 Least Squares   F-statistic:                     494.3\n",
      "Date:                Wed, 03 Nov 2021   Prob (F-statistic):           6.39e-73\n",
      "Time:                        19:22:49   Log-Likelihood:                -253.79\n",
      "No. Observations:                 140   AIC:                             515.6\n",
      "Df Residuals:                     136   BIC:                             527.3\n",
      "Df Model:                           3                                         \n",
      "Covariance Type:            nonrobust                                         \n",
      "==============================================================================\n",
      "                 coef    std err          t      P>|t|      [0.025      0.975]\n",
      "------------------------------------------------------------------------------\n",
      "const          4.6692      0.339     13.782      0.000       3.999       5.339\n",
      "x1             0.0537      0.002     35.116      0.000       0.051       0.057\n",
      "x2             0.1107      0.009     12.688      0.000       0.093       0.128\n",
      "x3             0.0020      0.006      0.314      0.754      -0.011       0.015\n",
      "==============================================================================\n",
      "Omnibus:                        0.910   Durbin-Watson:                   2.281\n",
      "Prob(Omnibus):                  0.634   Jarque-Bera (JB):                0.974\n",
      "Skew:                           0.186   Prob(JB):                        0.614\n",
      "Kurtosis:                       2.832   Cond. No.                         476.\n",
      "==============================================================================\n",
      "\n",
      "Notes:\n",
      "[1] Standard Errors assume that the covariance matrix of the errors is correctly specified.\n"
     ]
    }
   ],
   "source": [
    "print(LM.summary())"
   ]
  },
  {
   "cell_type": "markdown",
   "id": "91aa3a6c",
   "metadata": {},
   "source": [
    "### Conclusões:\n",
    "\n",
    "- O modelo atual é melhor do que o anterior, deduzo isso devido ao R-quadrado Ajustado, que tem justamente o propósito de comparação.\n",
    "- Enquanto o R quadrado ajustado do modelo antigo apresentou um valor de 0.81, o modelo múltiplo apresentou um R-quadrado ajustado de 0.91;\n",
    "- O modelo múltiplo representa um R-quadrado de 0.91, isso significa que esse é o poder preditivo no meu modelo;\n",
    "- O modelo tem um problema, um nos betas não passou no teste de p_value, portanto não é estatisticamente significante."
   ]
  },
  {
   "cell_type": "code",
   "execution_count": 25,
   "id": "ba3e5eb5",
   "metadata": {},
   "outputs": [
    {
     "name": "stdout",
     "output_type": "stream",
     "text": [
      "True\n",
      "1.3700967632044024e-27\n",
      "True\n",
      "4.562525025722548e-70\n",
      "True\n",
      "7.948411878032605e-25\n",
      "False\n",
      "0.7536800318623915\n"
     ]
    }
   ],
   "source": [
    "#A variável Newspaper não possui um P_value estatisticamente significante, conforme descrito abaixo:\n",
    "\n",
    "for i in LM.pvalues:\n",
    "     print(i < 0.05)\n",
    "     print(i)\n",
    "\n",
    "#Nesse caso vamos excluir a variável Newspaper, já que não passou no teste."
   ]
  },
  {
   "cell_type": "markdown",
   "id": "a307dcab",
   "metadata": {},
   "source": [
    "## Novo modelo sem a variável Newspaper"
   ]
  },
  {
   "cell_type": "code",
   "execution_count": 26,
   "id": "a1269e49",
   "metadata": {},
   "outputs": [],
   "source": [
    "X_new = propaganda[['TV', 'Radio']].values\n",
    "y_new = propaganda['Sales'].values"
   ]
  },
  {
   "cell_type": "code",
   "execution_count": 27,
   "id": "894461c0",
   "metadata": {},
   "outputs": [],
   "source": [
    "from sklearn.model_selection import train_test_split\n",
    "X_trainew, x_testnew, y_trainew,y_testnew = train_test_split(X_new, y_new, train_size=0.7, test_size=0.3, random_state=0)"
   ]
  },
  {
   "cell_type": "code",
   "execution_count": 28,
   "id": "e0398eb9",
   "metadata": {},
   "outputs": [],
   "source": [
    "trainnew = sm.add_constant(X_trainew)\n",
    "\n",
    "LMN = sm.OLS(y_trainew, trainnew).fit()"
   ]
  },
  {
   "cell_type": "code",
   "execution_count": 29,
   "id": "88481cda",
   "metadata": {},
   "outputs": [
    {
     "name": "stdout",
     "output_type": "stream",
     "text": [
      "                            OLS Regression Results                            \n",
      "==============================================================================\n",
      "Dep. Variable:                      y   R-squared:                       0.916\n",
      "Model:                            OLS   Adj. R-squared:                  0.915\n",
      "Method:                 Least Squares   F-statistic:                     746.3\n",
      "Date:                Wed, 03 Nov 2021   Prob (F-statistic):           2.17e-74\n",
      "Time:                        19:22:50   Log-Likelihood:                -253.84\n",
      "No. Observations:                 140   AIC:                             513.7\n",
      "Df Residuals:                     137   BIC:                             522.5\n",
      "Df Model:                           2                                         \n",
      "Covariance Type:            nonrobust                                         \n",
      "==============================================================================\n",
      "                 coef    std err          t      P>|t|      [0.025      0.975]\n",
      "------------------------------------------------------------------------------\n",
      "const          4.7020      0.321     14.633      0.000       4.067       5.337\n",
      "x1             0.0537      0.002     35.516      0.000       0.051       0.057\n",
      "x2             0.1115      0.008     13.388      0.000       0.095       0.128\n",
      "==============================================================================\n",
      "Omnibus:                        0.769   Durbin-Watson:                   2.278\n",
      "Prob(Omnibus):                  0.681   Jarque-Bera (JB):                0.841\n",
      "Skew:                           0.171   Prob(JB):                        0.657\n",
      "Kurtosis:                       2.833   Cond. No.                         447.\n",
      "==============================================================================\n",
      "\n",
      "Notes:\n",
      "[1] Standard Errors assume that the covariance matrix of the errors is correctly specified.\n"
     ]
    }
   ],
   "source": [
    "print(LMN.summary())"
   ]
  },
  {
   "cell_type": "code",
   "execution_count": 34,
   "id": "fe3cc3f3",
   "metadata": {},
   "outputs": [
    {
     "name": "stdout",
     "output_type": "stream",
     "text": [
      "True\n",
      "8.699885305227561e-30\n",
      "True\n",
      "5.5506820133641105e-71\n",
      "True\n",
      "1.1678354839141164e-26\n"
     ]
    }
   ],
   "source": [
    "for i in LMN.pvalues:\n",
    "     print(i < 0.05)\n",
    "     print(i)"
   ]
  },
  {
   "cell_type": "markdown",
   "id": "9caee5e6",
   "metadata": {},
   "source": [
    "### Análise do Modelo:\n",
    "- Por mais que o R-quadrado permaneça o mesmo, quando olhamos para o R-ajustado conseguimos identificar que é melhor do que o modelo antigo, portanto esse será o nosso modelo final.\n",
    "- A estatística F passou, o que me indica que pelo menos um beta é estatisticamente significante;\n",
    "- Todos os P_values são estatiticamente significantes (No alfa e Beta)"
   ]
  },
  {
   "cell_type": "markdown",
   "id": "ffdd634b",
   "metadata": {},
   "source": [
    "## Normalidade dos Resíduos"
   ]
  },
  {
   "cell_type": "markdown",
   "id": "c4498741",
   "metadata": {},
   "source": [
    "Fazendo o predict, e analisando os resíduos"
   ]
  },
  {
   "cell_type": "code",
   "execution_count": 83,
   "id": "fba2b0fa",
   "metadata": {},
   "outputs": [],
   "source": [
    "y_pred_train2 = LMN.predict(trainnew)\n",
    "residuo2 = (y_trainew - y_pred_train2)"
   ]
  },
  {
   "cell_type": "code",
   "execution_count": 84,
   "id": "bd905ceb",
   "metadata": {},
   "outputs": [
    {
     "data": {
      "text/plain": [
       "<Figure size 432x288 with 0 Axes>"
      ]
     },
     "metadata": {},
     "output_type": "display_data"
    },
    {
     "data": {
      "image/png": "[encoded data removed]",
      "text/plain": [
       "<Figure size 360x360 with 1 Axes>"
      ]
     },
     "metadata": {
      "needs_background": "light"
     },
     "output_type": "display_data"
    }
   ],
   "source": [
    "plt.figure()\n",
    "sns.displot(residuo2, bins=15, kde=True)\n",
    "plt.title('Termos de erro')\n",
    "plt.show()"
   ]
  },
  {
   "cell_type": "code",
   "execution_count": 93,
   "id": "73aec0ad",
   "metadata": {},
   "outputs": [
    {
     "data": {
      "text/plain": [
       "True"
      ]
     },
     "execution_count": 93,
     "metadata": {},
     "output_type": "execute_result"
    }
   ],
   "source": [
    "stati, p_value2 = stats.shapiro(residuo2)\n",
    "p_value2 >0.05"
   ]
  },
  {
   "cell_type": "code",
   "execution_count": 115,
   "id": "7afdd111",
   "metadata": {},
   "outputs": [
    {
     "data": {
      "text/plain": [
       "0.2302713543176651"
      ]
     },
     "execution_count": 115,
     "metadata": {},
     "output_type": "execute_result"
    }
   ],
   "source": [
    "p_value2"
   ]
  },
  {
   "cell_type": "markdown",
   "id": "d0bab496",
   "metadata": {},
   "source": [
    "### Conclusão:\n",
    "\n",
    "Os resíduos passaram no teste de Shapiro-Wilk, portanto temos um modelo."
   ]
  }
 ],
 "metadata": {
  "kernelspec": {
   "display_name": "Python 3",
   "language": "python",
   "name": "python3"
  },
  "language_info": {
   "codemirror_mode": {
    "name": "ipython",
    "version": 3
   },
   "file_extension": ".py",
   "mimetype": "text/x-python",
   "name": "python",
   "nbconvert_exporter": "python",
   "pygments_lexer": "ipython3",
   "version": "3.8.8"
  }
 },
 "nbformat": 4,
 "nbformat_minor": 5
}
